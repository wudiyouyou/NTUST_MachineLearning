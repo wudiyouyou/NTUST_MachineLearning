{
 "cells": [
  {
   "cell_type": "code",
   "execution_count": 128,
   "metadata": {},
   "outputs": [],
   "source": [
    "%matplotlib inline\n",
    "import numpy as np\n",
    "import matplotlib.pyplot as plt\n",
    "import pandas as pd\n",
    "import matplotlib.pyplot as plt"
   ]
  },
  {
   "cell_type": "code",
   "execution_count": 129,
   "metadata": {},
   "outputs": [],
   "source": [
    "df = pd.read_csv(\"./data/bank/bank-full.csv\",sep=';')"
   ]
  },
  {
   "cell_type": "code",
   "execution_count": 130,
   "metadata": {},
   "outputs": [],
   "source": [
    "marital_mapping = {'single':1, 'married':2, 'divorced':3}\n",
    "df['marital'] = df['marital'].map(marital_mapping)"
   ]
  },
  {
   "cell_type": "code",
   "execution_count": 131,
   "metadata": {},
   "outputs": [],
   "source": [
    "job_mapping = {\"admin.\":1,\"unknown\":2,\"unemployed\":3,\"management\":4,\"housemaid\":5,\"entrepreneur\":6,\"student\":7,\"blue-collar\":8,\n",
    "               \"self-employed\":9,\"retired\":10,\"technician\":11,\"services\":12}\n",
    "df['job'] = df['job'].map(job_mapping)"
   ]
  },
  {
   "cell_type": "code",
   "execution_count": 132,
   "metadata": {},
   "outputs": [],
   "source": [
    "education_mapping = {\"unknown\":1,\"secondary\":2,\"primary\":3,\"tertiary\":4}\n",
    "df['education'] = df['education'].map(education_mapping)"
   ]
  },
  {
   "cell_type": "code",
   "execution_count": 133,
   "metadata": {},
   "outputs": [],
   "source": [
    "default_mapping = {'yes':1, 'no':2}\n",
    "df['default'] = df['default'].map(default_mapping)"
   ]
  },
  {
   "cell_type": "code",
   "execution_count": 134,
   "metadata": {},
   "outputs": [],
   "source": [
    "housing_mapping = {'yes':1, 'no':2}\n",
    "df['housing'] = df['housing'].map(housing_mapping)"
   ]
  },
  {
   "cell_type": "code",
   "execution_count": 135,
   "metadata": {},
   "outputs": [],
   "source": [
    "loan_mapping = {'yes':1, 'no':2}\n",
    "df['loan'] = df['loan'].map(loan_mapping)"
   ]
  },
  {
   "cell_type": "code",
   "execution_count": 136,
   "metadata": {},
   "outputs": [],
   "source": [
    "contact_mapping = {\"unknown\":1, \"telephone\":2,\"cellular\":3}\n",
    "df['contact'] = df['contact'].map(contact_mapping)"
   ]
  },
  {
   "cell_type": "code",
   "execution_count": 137,
   "metadata": {},
   "outputs": [],
   "source": [
    "month_mapping = {\"jan\":1, \"feb\":2, \"mar\":3, \"apr\":4, \"may\":5, \"jun\":6, \"jul\":7, \"aug\":8, \"sep\":9, \"oct\":10, \n",
    "                 \"nov\":11, \"dec\":12}\n",
    "df['month'] = df['month'].map(month_mapping)"
   ]
  },
  {
   "cell_type": "code",
   "execution_count": 138,
   "metadata": {},
   "outputs": [],
   "source": [
    "poutcome_mapping = {\"unknown\":1,\"other\":2,\"failure\":3,\"success\":4}\n",
    "df['poutcome'] = df['poutcome'].map(poutcome_mapping)"
   ]
  },
  {
   "cell_type": "code",
   "execution_count": 139,
   "metadata": {},
   "outputs": [],
   "source": [
    "y_mapping = {'yes':1,'no':2}\n",
    "df['y'] = df['y'].map(y_mapping)"
   ]
  },
  {
   "cell_type": "code",
   "execution_count": 140,
   "metadata": {},
   "outputs": [],
   "source": [
    "X=df[['age','job','marital','education','default','balance','housing','loan','contact','day','month','duration',\n",
    "      'campaign','pdays','previous','poutcome']]\n",
    "Y=df[['y']]"
   ]
  },
  {
   "cell_type": "code",
   "execution_count": 141,
   "metadata": {},
   "outputs": [],
   "source": [
    "from sklearn.neural_network import MLPClassifier\n",
    "from sklearn.metrics import accuracy_score\n",
    "from sklearn.metrics import confusion_matrix, classification_report\n",
    "from sklearn.preprocessing import StandardScaler\n",
    "from sklearn.model_selection import train_test_split"
   ]
  },
  {
   "cell_type": "code",
   "execution_count": 142,
   "metadata": {},
   "outputs": [],
   "source": [
    "x_train, x_test, y_train, y_test = train_test_split(X, Y, test_size= 0.25, random_state=27)"
   ]
  },
  {
   "cell_type": "code",
   "execution_count": 143,
   "metadata": {},
   "outputs": [
    {
     "name": "stderr",
     "output_type": "stream",
     "text": [
      "/Library/Frameworks/Python.framework/Versions/3.6/lib/python3.6/site-packages/sklearn/preprocessing/data.py:617: DataConversionWarning: Data with input dtype int64 were all converted to float64 by StandardScaler.\n",
      "  return self.partial_fit(X, y)\n",
      "/Library/Frameworks/Python.framework/Versions/3.6/lib/python3.6/site-packages/sklearn/base.py:462: DataConversionWarning: Data with input dtype int64 were all converted to float64 by StandardScaler.\n",
      "  return self.fit(X, **fit_params).transform(X)\n",
      "/Library/Frameworks/Python.framework/Versions/3.6/lib/python3.6/site-packages/ipykernel_launcher.py:3: DataConversionWarning: Data with input dtype int64 were all converted to float64 by StandardScaler.\n",
      "  This is separate from the ipykernel package so we can avoid doing imports until\n"
     ]
    }
   ],
   "source": [
    "sc = StandardScaler()\n",
    "x_train = sc.fit_transform(x_train)\n",
    "x_test = sc.transform(x_test)"
   ]
  },
  {
   "cell_type": "code",
   "execution_count": 144,
   "metadata": {},
   "outputs": [
    {
     "name": "stdout",
     "output_type": "stream",
     "text": [
      "Start ANN Learning ...\n"
     ]
    }
   ],
   "source": [
    "clf = MLPClassifier(solver='lbfgs', alpha=1e-5,\n",
    "                    hidden_layer_sizes=(5, 2), random_state=1)\n",
    "print(\"Start ANN Learning ...\")"
   ]
  },
  {
   "cell_type": "code",
   "execution_count": 145,
   "metadata": {},
   "outputs": [
    {
     "name": "stderr",
     "output_type": "stream",
     "text": [
      "/Library/Frameworks/Python.framework/Versions/3.6/lib/python3.6/site-packages/sklearn/neural_network/multilayer_perceptron.py:916: DataConversionWarning: A column-vector y was passed when a 1d array was expected. Please change the shape of y to (n_samples, ), for example using ravel().\n",
      "  y = column_or_1d(y, warn=True)\n"
     ]
    },
    {
     "name": "stdout",
     "output_type": "stream",
     "text": [
      "done Learning ANN.\n"
     ]
    }
   ],
   "source": [
    "clf.fit(x_train, y_train)\n",
    "print(\"done Learning ANN.\")"
   ]
  },
  {
   "cell_type": "code",
   "execution_count": 146,
   "metadata": {},
   "outputs": [
    {
     "data": {
      "text/plain": [
       "array([1, 2, 2, ..., 2, 2, 2])"
      ]
     },
     "execution_count": 146,
     "metadata": {},
     "output_type": "execute_result"
    }
   ],
   "source": [
    "y_pred = clf.predict(x_test)\n",
    "y_pred"
   ]
  },
  {
   "cell_type": "code",
   "execution_count": 147,
   "metadata": {},
   "outputs": [
    {
     "name": "stdout",
     "output_type": "stream",
     "text": [
      " ANN Accurancy : 0.898699\n"
     ]
    }
   ],
   "source": [
    "accuracy_score(y_test, y_pred)\n",
    "print(\" ANN Accurancy : %f\"%accuracy_score(y_test, y_pred))"
   ]
  },
  {
   "cell_type": "code",
   "execution_count": 148,
   "metadata": {},
   "outputs": [
    {
     "data": {
      "text/plain": [
       "array([[ 461,  828],\n",
       "       [ 317, 9697]])"
      ]
     },
     "execution_count": 148,
     "metadata": {},
     "output_type": "execute_result"
    }
   ],
   "source": [
    "cm = confusion_matrix(y_test, y_pred)\n",
    "cm"
   ]
  },
  {
   "cell_type": "code",
   "execution_count": 149,
   "metadata": {},
   "outputs": [],
   "source": [
    "cr = classification_report(y_test,y_pred)\n",
    "cr"
   ]
  },
  {
   "cell_type": "code",
   "execution_count": 150,
   "metadata": {},
   "outputs": [
    {
     "data": {
      "text/plain": [
       "3"
      ]
     },
     "execution_count": 150,
     "metadata": {},
     "output_type": "execute_result"
    }
   ],
   "source": [
    "lcc_ = len(clf.coefs_)\n",
    "lcc_"
   ]
  },
  {
   "cell_type": "code",
   "execution_count": 151,
   "metadata": {},
   "outputs": [
    {
     "data": {
      "text/plain": [
       "array([[-0.43990773, -0.2423043 , -0.13049996,  0.06926253, -2.13533618],\n",
       "       [ 0.11489406,  0.20528151,  0.01469613,  0.10533304,  0.08582947],\n",
       "       [ 0.20546724, -0.03273783, -0.18250599,  0.03364852, -0.14460473],\n",
       "       [-0.20657137, -0.01913539,  0.10204809, -0.06899781, -0.00365866],\n",
       "       [ 0.13834834, -0.04182374,  0.17621434, -0.24911703, -0.01449575],\n",
       "       [-0.01154587, -2.03868895,  0.06453429, -0.37129281, -0.02453595],\n",
       "       [-1.04613701,  0.54471568,  0.02262376, -0.38328118,  0.26401662],\n",
       "       [ 1.28170522, -0.12264597, -0.34647298, -1.35734175,  0.20371928],\n",
       "       [-0.563117  , -0.81221159, -1.37967037,  0.4318027 , -0.23909467],\n",
       "       [ 0.0758736 ,  0.15561612,  0.14586925, -0.08645492, -0.04151152],\n",
       "       [-0.36182567,  0.20694227,  1.80275615,  0.01172132,  0.41162971],\n",
       "       [-1.90305039, -0.94803867, -1.54681273, -2.18788601, -0.12645885],\n",
       "       [ 0.25048393,  0.41333595,  0.37907413,  0.58193496,  0.29641212],\n",
       "       [ 0.47313176, -0.23210151, -0.54663812,  0.24682821,  0.53453856],\n",
       "       [-0.01921773, -0.06316092, -0.03833257, -0.07690432, -0.69239753],\n",
       "       [-0.90850118, -0.32912378, -1.22116533, -0.23869432, -0.4480713 ]])"
      ]
     },
     "execution_count": 151,
     "metadata": {},
     "output_type": "execute_result"
    }
   ],
   "source": [
    "lcc0 = (clf.coefs_[0])\n",
    "lcc0"
   ]
  },
  {
   "cell_type": "code",
   "execution_count": 152,
   "metadata": {},
   "outputs": [
    {
     "data": {
      "text/plain": [
       "5"
      ]
     },
     "execution_count": 152,
     "metadata": {},
     "output_type": "execute_result"
    }
   ],
   "source": [
    "lmi0 = len(clf.intercepts_[0])\n",
    "lmi0"
   ]
  },
  {
   "cell_type": "code",
   "execution_count": null,
   "metadata": {},
   "outputs": [],
   "source": []
  }
 ],
 "metadata": {
  "kernelspec": {
   "display_name": "Python 3",
   "language": "python",
   "name": "python3"
  },
  "language_info": {
   "codemirror_mode": {
    "name": "ipython",
    "version": 3
   },
   "file_extension": ".py",
   "mimetype": "text/x-python",
   "name": "python",
   "nbconvert_exporter": "python",
   "pygments_lexer": "ipython3",
   "version": "3.6.2"
  }
 },
 "nbformat": 4,
 "nbformat_minor": 2
}
